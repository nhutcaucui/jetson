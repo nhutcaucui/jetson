{
 "cells": [
  {
   "cell_type": "code",
   "execution_count": 1,
   "id": "80487199-a29f-4243-b82b-99927bdc2ad9",
   "metadata": {},
   "outputs": [],
   "source": [
    "import torchvision.transforms as transforms\n",
    "import torchvision.datasets as datasets\n",
    "import torch\n",
    "import torchvision.models as models\n",
    "import torch.optim as optimizer\n",
    "import torch.nn.functional as F"
   ]
  },
  {
   "cell_type": "code",
   "execution_count": 2,
   "id": "bc0d6c06",
   "metadata": {},
   "outputs": [],
   "source": [
    "DATASET = 'dataset-more'\n",
    "PATH = 'sll-more.pth'"
   ]
  },
  {
   "cell_type": "code",
   "execution_count": 3,
   "id": "04ae23e1",
   "metadata": {},
   "outputs": [],
   "source": [
    "DATASET = 'dataset-less'\n",
    "PATH = 'sll-less.pth'"
   ]
  },
  {
   "cell_type": "code",
   "execution_count": 4,
   "id": "1bc81c1f",
   "metadata": {},
   "outputs": [
    {
     "name": "stdout",
     "output_type": "stream",
     "text": [
      "dataset created\n",
      "loader created\n",
      "model init\n",
      "all set\n"
     ]
    }
   ],
   "source": [
    "TRANSFORMS = transforms.Compose([\n",
    "    transforms.ColorJitter(0.2, 0.2, 0.2, 0.2),\n",
    "    transforms.Resize((224, 224)),\n",
    "    transforms.ToTensor(),\n",
    "    transforms.Normalize([0.485, 0.456, 0.406], [0.229, 0.224, 0.225])\n",
    "])\n",
    "\n",
    "BATCH_SIZE = 8\n",
    "\n",
    "#create dataset from folder\n",
    "dataset = datasets.ImageFolder(\n",
    "    DATASET,\n",
    "    TRANSFORMS\n",
    ")\n",
    "print('dataset created')\n",
    "\n",
    "#create loader\n",
    "train_loader = torch.utils.data.DataLoader(\n",
    "    dataset,\n",
    "    batch_size = BATCH_SIZE,\n",
    "    shuffle = True\n",
    ")\n",
    "print('loader created')\n",
    "\n",
    "#use pretrained Alexnet as model\n",
    "model = models.alexnet(pretrained=True)\n",
    "print('model init')\n",
    "\n",
    "#change last layer to number of categories (27 for 26 letters + empty background)\n",
    "model.classifier[6] = torch.nn.Linear(model.classifier[6].in_features, 27)\n",
    "\n",
    "#cuda\n",
    "device = torch.device('cuda')\n",
    "model = model.to(device)\n",
    "print('all set')"
   ]
  },
  {
   "cell_type": "code",
   "execution_count": null,
   "id": "66252987",
   "metadata": {},
   "outputs": [
    {
     "name": "stdout",
     "output_type": "stream",
     "text": [
      "training start, freezing may occur\n"
     ]
    }
   ],
   "source": [
    "%%time\n",
    "#train\n",
    "EPOCHS = 10\n",
    "BEST_ACC = 0\n",
    "\n",
    "print('training start, freezing may occur')\n",
    "optimize = optimizer.SGD(model.parameters(), lr=1e-3, momentum=0.9)\n",
    "model.train()\n",
    "for epoch in range (EPOCHS):\n",
    "    i = 0\n",
    "    sum_loss = 0.0\n",
    "    error_count = 0.0\n",
    "    for images, labels in iter(train_loader):\n",
    "        # send data to device\n",
    "        images = images.to(device)\n",
    "        labels = labels.to(device)\n",
    "\n",
    "        # zero gradients of parameters\n",
    "        optimize.zero_grad()\n",
    "\n",
    "        # execute model to get outputs\n",
    "        outputs = model(images)\n",
    "\n",
    "        # compute loss\n",
    "        loss = F.cross_entropy(outputs, labels)\n",
    "\n",
    "        # run backpropogation to accumulate gradients\n",
    "        loss.backward()\n",
    "\n",
    "        # step optimizer to adjust parameters\n",
    "        optimize.step()\n",
    "\n",
    "        # increment progress\n",
    "        error_count += len(torch.nonzero(outputs.argmax(1) - labels).flatten())\n",
    "        count = len(labels.flatten())\n",
    "        i += count\n",
    "        sum_loss += float(loss)\n",
    "        \n",
    "    accuracy = 1.0 - error_count / i\n",
    "    print('epoch %d: accuracy %f, loss %f' % (epoch, accuracy,sum_loss / i))\n",
    "    if accuracy > BEST_ACC:\n",
    "        BEST_ACC = accuracy\n",
    "        torch.save(model.state_dict(), PATH)"
   ]
  },
  {
   "cell_type": "code",
   "execution_count": null,
   "id": "1460dc27",
   "metadata": {},
   "outputs": [],
   "source": [
    "import os\n",
    "os._exit(00)"
   ]
  },
  {
   "cell_type": "code",
   "execution_count": null,
   "id": "add66a64",
   "metadata": {},
   "outputs": [],
   "source": []
  }
 ],
 "metadata": {
  "kernelspec": {
   "display_name": "Python 3",
   "language": "python",
   "name": "python3"
  },
  "language_info": {
   "codemirror_mode": {
    "name": "ipython",
    "version": 3
   },
   "file_extension": ".py",
   "mimetype": "text/x-python",
   "name": "python",
   "nbconvert_exporter": "python",
   "pygments_lexer": "ipython3",
   "version": "3.6.9"
  }
 },
 "nbformat": 4,
 "nbformat_minor": 5
}
