{
 "cells": [
  {
   "cell_type": "code",
   "execution_count": 2,
   "id": "4c55f1b0",
   "metadata": {},
   "outputs": [
    {
     "name": "stdout",
     "output_type": "stream",
     "text": [
      "crw-rw---- 1 root video 81, 0 Jul 28 02:13 /dev/video0\n"
     ]
    }
   ],
   "source": [
    "# Check device number\n",
    "!ls -ltrh /dev/video*"
   ]
  },
  {
   "cell_type": "code",
   "execution_count": 3,
   "id": "2ccdf63c",
   "metadata": {},
   "outputs": [
    {
     "name": "stdout",
     "output_type": "stream",
     "text": [
      "camera created\n"
     ]
    }
   ],
   "source": [
    "from jetcam.usb_camera import USBCamera\n",
    "from jetcam.csi_camera import CSICamera\n",
    "\n",
    "# for USB Camera (Logitech C270 webcam), uncomment the following line\n",
    "camera = USBCamera(width=224, height=224, capture_device=0) # confirm the capture_device number\n",
    "\n",
    "# for CSI Camera (Raspberry Pi Camera Module V2), uncomment the following line\n",
    "# camera = CSICamera(width=224, height=224, capture_device=0) # confirm the capture_device number\n",
    "\n",
    "camera.running = True\n",
    "print(\"camera created\")"
   ]
  },
  {
   "cell_type": "code",
   "execution_count": 4,
   "id": "50100ced",
   "metadata": {},
   "outputs": [],
   "source": [
    "PATH = 'sll-more.pth'"
   ]
  },
  {
   "cell_type": "code",
   "execution_count": 5,
   "id": "9a111b9e",
   "metadata": {},
   "outputs": [],
   "source": [
    "PATH = 'sll-less.pth'"
   ]
  },
  {
   "cell_type": "code",
   "execution_count": 6,
   "id": "413882f3",
   "metadata": {},
   "outputs": [
    {
     "name": "stdout",
     "output_type": "stream",
     "text": [
      "model init\n",
      "model loaded\n"
     ]
    }
   ],
   "source": [
    "import torch\n",
    "import torchvision.models as models\n",
    "\n",
    "model = models.alexnet(pretrained=True)\n",
    "print('model init')\n",
    "\n",
    "#change last layer to number of categories (27 for 26 letters + empty)\n",
    "model.classifier[6] = torch.nn.Linear(model.classifier[6].in_features, 27)\n",
    "\n",
    "#cuda\n",
    "device = torch.device('cuda')\n",
    "model = model.to(device)\n",
    "model.load_state_dict(torch.load(PATH))\n",
    "print('model loaded')"
   ]
  },
  {
   "cell_type": "code",
   "execution_count": 31,
   "id": "bc92e118",
   "metadata": {},
   "outputs": [
    {
     "name": "stdout",
     "output_type": "stream",
     "text": [
      "widgets created\n"
     ]
    }
   ],
   "source": [
    "# game\n",
    "import ipywidgets\n",
    "import torch.nn.functional as F\n",
    "import torch\n",
    "import torchvision.transforms as transforms\n",
    "import PIL.Image\n",
    "import numpy as np\n",
    "import traitlets\n",
    "from traitlets import HasTraits, List, signature_has_traits\n",
    "from IPython.display import display\n",
    "from jetcam.utils import bgr8_to_jpeg\n",
    "import threading\n",
    "import cv2\n",
    "\n",
    "mean = torch.Tensor([0.485, 0.456, 0.406]).cuda()\n",
    "std = torch.Tensor([0.229, 0.224, 0.225]).cuda()\n",
    "\n",
    "def preprocess(image):\n",
    "    global device\n",
    "    image = PIL.Image.fromarray(image)\n",
    "    image = transforms.functional.to_tensor(image).to(device)\n",
    "    image.sub_(mean[:, None, None]).div_(std[:, None, None])\n",
    "    return image[None, ...]\n",
    "\n",
    "LABELS = ['A', 'B', 'C', 'D', 'E', 'F', 'G', 'H', 'I', 'J', 'K', 'L', 'M', 'N', 'O', 'P', 'Q', 'R', 'S', 'T', 'U', 'V', 'W', 'X', 'Y', 'Z', 'empty']\n",
    "mode_widget = ipywidgets.ToggleButtons(options=['Spelling', 'Guessing', 'Random Guessing'], description='Game Mode', value='Spelling')\n",
    "rule_widget = ipywidgets.Textarea(description='Rule', disabled=True, value=\"'Current Word' will display a word from dictionary\\nYou will need to spell each letter of that word using the ASL Alphabet\\nYou will have 3 seconds for each letter\\nWrong spelling will end the game\\nThe word will get longer as time goes on\")\n",
    "current_word_widget = ipywidgets.Text(description='Current Word', placeholder='Selected word goes here')\n",
    "timer_widget = ipywidgets.IntText(description='Timer', placeholder='Countdown')\n",
    "prediction_widget = ipywidgets.Text(description='Prediction', placeholder='Detected letter goes here')\n",
    "score_widget = ipywidgets.IntText(description='Score', placeholder='Your score')\n",
    "state_widget = ipywidgets.ToggleButtons(options=['Start', 'Stop'], description='Game State', value='Stop')\n",
    "\n",
    "camera_widget = ipywidgets.Image()\n",
    "# traitlets.dlink((camera, 'value'), (camera_widget, 'value'), transform=bgr8_to_jpeg)\n",
    "\n",
    "def live(state_widget, model, camera, prediction_widget, score_widget):\n",
    "    print(state_widget.value)\n",
    "    global LABELS\n",
    "    while state_widget.value == 'Start':\n",
    "        image = camera.value\n",
    "        preprocessed = preprocess(image)\n",
    "        output = model(preprocessed)\n",
    "        probs = F.softmax(output, dim=1).detach().cpu().numpy().flatten()\n",
    "        category_index = probs.argmax()\n",
    "        prediction_widget.value = LABELS[category_index]\n",
    "#         score_widget.value = str(probs.max())\n",
    "            \n",
    "def start_game(change):\n",
    "    # first time starting model will take a while before model can start predicting\n",
    "    if change['new'] == 'Start':\n",
    "        execute_thread = threading.Thread(target=live, args=(state_widget, model, camera, prediction_widget, score_widget))\n",
    "        execute_thread.start()\n",
    "        \n",
    "def change_game_mode(change):\n",
    "    global rule_widget, current_word_widget, timer_widget, prediction_widget, score_widget\n",
    "    if change['new'] == 'Spelling':\n",
    "        rule_widget.value = \"'Current Word' will display a word from dictionary\\nYou will need to spell each letter of that word using the ASL Alphabet\\nYou will have 3 seconds for each letter\\nWrong spelling will end the game\\nThe word will get longer as time goes on\"\n",
    "    elif change['new'] == 'Guessing':\n",
    "        rule_widget.value = \"'Current Word' will display a word from dictionary\\nYou will have 5 seconds to memorize the word\\nAfter that 'Current Word' will display the position of the letter you need to guess and you will have 5 seconds to guess the letter\\nWrong guess will end the game\\nThe word will get longer as time goes on\"\n",
    "    elif change['new'] == 'Random Guessing':\n",
    "        rule_widget.value = \"'Current Word' will display a random string of letters\\nYou will have 5 seconds to memorize the string\\nAfter that 'Current Word' will display the position of the letter you need to guess and you will have 5 seconds to guess the letter\\nWrong guess will end the game\\nThe word will get longer as time goes on\"\n",
    "    current_word_widget.value = ''\n",
    "    timer_widget.value = 0\n",
    "    prediction_widget.value = ''\n",
    "    score_widget.value = 0\n",
    "        \n",
    "mode_widget.observe(change_game_mode, names='value')\n",
    "state_widget.observe(start_game, names='value')\n",
    "\n",
    "live_execution_widget = ipywidgets.VBox([\n",
    "    ipywidgets.HBox([camera_widget, prediction_widget]),\n",
    "    mode_widget,\n",
    "    rule_widget,\n",
    "    current_word_widget,\n",
    "    timer_widget,\n",
    "    score_widget,\n",
    "    state_widget\n",
    "])\n",
    "\n",
    "print(\"widgets created\")"
   ]
  },
  {
   "cell_type": "code",
   "execution_count": 36,
   "id": "8c5c381a",
   "metadata": {},
   "outputs": [
    {
     "data": {
      "text/plain": [
       "<traitlets.traitlets.directional_link at 0x7f12ed3cc0>"
      ]
     },
     "execution_count": 36,
     "metadata": {},
     "output_type": "execute_result"
    }
   ],
   "source": [
    "# link camera\n",
    "camera.unobserve_all()\n",
    "traitlets.dlink((camera, 'value'), (camera_widget, 'value'), transform=bgr8_to_jpeg)"
   ]
  },
  {
   "cell_type": "code",
   "execution_count": 37,
   "id": "b11ef48d",
   "metadata": {},
   "outputs": [
    {
     "data": {
      "application/vnd.jupyter.widget-view+json": {
       "model_id": "41053ea0f13d43a2a6171f986c39ff6f",
       "version_major": 2,
       "version_minor": 0
      },
      "text/plain": [
       "VBox(children=(HBox(children=(VBox(children=(HBox(children=(Image(value=b'\\xff\\xd8\\xff\\xe0\\x00\\x10JFIF\\x00\\x01…"
      ]
     },
     "metadata": {},
     "output_type": "display_data"
    }
   ],
   "source": [
    "all_widget = ipywidgets.VBox([\n",
    "    ipywidgets.HBox([live_execution_widget])\n",
    "])\n",
    "\n",
    "display(all_widget)"
   ]
  },
  {
   "cell_type": "code",
   "execution_count": 30,
   "id": "3f70a0a4",
   "metadata": {},
   "outputs": [
    {
     "data": {
      "text/plain": [
       "<traitlets.traitlets.directional_link at 0x7f901cbb38>"
      ]
     },
     "execution_count": 30,
     "metadata": {},
     "output_type": "execute_result"
    }
   ],
   "source": []
  },
  {
   "cell_type": "code",
   "execution_count": null,
   "id": "8a355d4e",
   "metadata": {},
   "outputs": [],
   "source": []
  }
 ],
 "metadata": {
  "kernelspec": {
   "display_name": "Python 3",
   "language": "python",
   "name": "python3"
  },
  "language_info": {
   "codemirror_mode": {
    "name": "ipython",
    "version": 3
   },
   "file_extension": ".py",
   "mimetype": "text/x-python",
   "name": "python",
   "nbconvert_exporter": "python",
   "pygments_lexer": "ipython3",
   "version": "3.6.9"
  }
 },
 "nbformat": 4,
 "nbformat_minor": 5
}
